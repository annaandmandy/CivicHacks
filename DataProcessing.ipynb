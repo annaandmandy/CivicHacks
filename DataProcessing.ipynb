{
  "nbformat": 4,
  "nbformat_minor": 0,
  "metadata": {
    "colab": {
      "provenance": []
    },
    "kernelspec": {
      "name": "python3",
      "display_name": "Python 3"
    },
    "language_info": {
      "name": "python"
    }
  },
  "cells": [
    {
      "cell_type": "code",
      "execution_count": null,
      "metadata": {
        "id": "rdiHzVX_6cVE"
      },
      "outputs": [],
      "source": [
        "import pandas as pd\n",
        "\n",
        "csv_path = \"full_dataset.csv\"\n",
        "\n",
        "df = pd.read_csv(csv_path, quoting=3, on_bad_lines=\"skip\", engine=\"python\")\n"
      ]
    },
    {
      "cell_type": "code",
      "source": [
        "import pandas as pd\n",
        "df = pd.read_csv(\"full_dataset.csv\")\n",
        "print(df.head())\n"
      ],
      "metadata": {
        "colab": {
          "base_uri": "https://localhost:8080/"
        },
        "id": "gfsNU_D4zYPf",
        "outputId": "a8c856a5-fc25-4b5c-f498-acd0cf93bae5"
      },
      "execution_count": null,
      "outputs": [
        {
          "output_type": "stream",
          "name": "stderr",
          "text": [
            "<ipython-input-5-b7f53683a6a4>:4: DtypeWarning: Columns (26,33,34,38,40,42,43,44,45,46,52,53,61,62,63,64,65,66,67,68,70,71,72,73,74,82,83,84,85) have mixed types. Specify dtype option on import or set low_memory=False.\n",
            "  df = pd.read_csv(\"full_dataset.csv\")\n"
          ]
        },
        {
          "output_type": "stream",
          "name": "stdout",
          "text": [
            "                                     id      type.x      format  \\\n",
            "0  8fdfc639-39c2-4933-a1e5-77107a9a5b83  StillImage  image/jpeg   \n",
            "1  a122d072-f965-485b-b34c-4374d91ab69d  StillImage  image/jpeg   \n",
            "2  4091cbbb-7cc6-4f8b-96dd-cf505d4e84b6  StillImage  image/jpeg   \n",
            "3  4091cbbb-7cc6-4f8b-96dd-cf505d4e84b6  StillImage  image/jpeg   \n",
            "4  4091cbbb-7cc6-4f8b-96dd-cf505d4e84b6  StillImage  image/jpeg   \n",
            "\n",
            "                                          identifier  \\\n",
            "0  http://data.huh.harvard.edu/8fdfc639-39c2-4933...   \n",
            "1  http://data.huh.harvard.edu/a122d072-f965-485b...   \n",
            "2  http://data.huh.harvard.edu/4091cbbb-7cc6-4f8b...   \n",
            "3  http://data.huh.harvard.edu/4091cbbb-7cc6-4f8b...   \n",
            "4  http://data.huh.harvard.edu/4091cbbb-7cc6-4f8b...   \n",
            "\n",
            "                                        references.x  description  \\\n",
            "0  http://data.huh.harvard.edu/8fdfc639-39c2-4933...          NaN   \n",
            "1  http://data.huh.harvard.edu/a122d072-f965-485b...          NaN   \n",
            "2  http://data.huh.harvard.edu/4091cbbb-7cc6-4f8b...          NaN   \n",
            "3  http://data.huh.harvard.edu/4091cbbb-7cc6-4f8b...          NaN   \n",
            "4  http://data.huh.harvard.edu/4091cbbb-7cc6-4f8b...          NaN   \n",
            "\n",
            "               created  creator  \\\n",
            "0  2011-03-25 00:00:00      NaN   \n",
            "1  2011-03-25 00:00:00      NaN   \n",
            "2  2011-07-19 00:00:00      NaN   \n",
            "3  2011-07-19 00:00:00      NaN   \n",
            "4  2011-07-19 00:00:00      NaN   \n",
            "\n",
            "                                           license.x  \\\n",
            "0  https://huh.harvard.edu/access-digital-reprodu...   \n",
            "1  https://huh.harvard.edu/access-digital-reprodu...   \n",
            "2  https://huh.harvard.edu/access-digital-reprodu...   \n",
            "3  https://huh.harvard.edu/access-digital-reprodu...   \n",
            "4  https://huh.harvard.edu/access-digital-reprodu...   \n",
            "\n",
            "                             rightsHolder.x  ...  identificationReferences.y  \\\n",
            "0  President and Fellows of Harvard College  ...                         NaN   \n",
            "1  President and Fellows of Harvard College  ...                         NaN   \n",
            "2  President and Fellows of Harvard College  ...                         NaN   \n",
            "3  President and Fellows of Harvard College  ...                         NaN   \n",
            "4  President and Fellows of Harvard College  ...                         NaN   \n",
            "\n",
            "  identificationQualifier.y typeStatus.y  \\\n",
            "0                       NaN      Syntype   \n",
            "1                       NaN      Syntype   \n",
            "2                       NaN          NaN   \n",
            "3                       NaN          NaN   \n",
            "4                       NaN          NaN   \n",
            "\n",
            "                                  scientificName.y      family.y      genus.y  \\\n",
            "0                          Crataegus torta Sargent      Rosaceae    Crataegus   \n",
            "1                          Crataegus torta Sargent      Rosaceae    Crataegus   \n",
            "2         Lesquerella purpurea (A. Gray) S. Watson  Brassicaceae  Lesquerella   \n",
            "3         Lesquerella purpurea (A. Gray) S. Watson  Brassicaceae  Lesquerella   \n",
            "4  Physaria purpurea (A. Gray) O'Kane & Al-Shehbaz  Brassicaceae     Physaria   \n",
            "\n",
            "  specificEpithet.y infraspecificEpithet.y taxonRank  \\\n",
            "0             torta                    NaN   Species   \n",
            "1             torta                    NaN   Species   \n",
            "2          purpurea                    NaN   Species   \n",
            "3          purpurea                    NaN   Species   \n",
            "4          purpurea                    NaN   Species   \n",
            "\n",
            "      scientificNameAuthorship.y  \n",
            "0                        Sargent  \n",
            "1                        Sargent  \n",
            "2            (A. Gray) S. Watson  \n",
            "3            (A. Gray) S. Watson  \n",
            "4  (A. Gray) O'Kane & Al-Shehbaz  \n",
            "\n",
            "[5 rows x 93 columns]\n"
          ]
        }
      ]
    },
    {
      "cell_type": "code",
      "source": [
        "\n",
        "#\n",
        "selected_columns = ['country', 'stateProvince', 'year', 'locality', 'scientificName.x',\n",
        "                    'family.x', 'genus.x', 'specificEpithet.x', 'identifiedBy.x', 'scientificNameAuthorship.x']\n",
        "selected_columns_1 = ['sex', 'stateProvince','reproductiveCondition', 'collectionID', 'occurrenceStatus', 'disposition']\n",
        "\n",
        " #\n",
        "df_selected = df[selected_columns]\n",
        "df_selected['year'] = df_selected['year'].astype(str)\n",
        "\n",
        "df_selected_1 = df[selected_columns_1]\n",
        "#\n",
        "df_selected['id'] = range(1, len(df_selected) + 1)\n",
        "df_selected_1['id'] = range(1, len(df_selected_1) + 1)\n",
        "\n",
        "states = ['Alabama', 'Alaska', 'Arizona', 'Arkansas', 'California', 'Colorado', 'Connecticut',\n",
        "          'Delaware', 'Florida', 'Georgia', 'Hawaii', 'Idaho', 'Illinois', 'Indiana', 'Iowa',\n",
        "          'Kansas', 'Kentucky', 'Louisiana', 'Maine', 'Maryland', 'Massachusetts', 'Michigan',\n",
        "          'Minnesota', 'Mississippi', 'Missouri', 'Montana', 'Nebraska', 'Nevada', 'New Hampshire',\n",
        "          'New Jersey', 'New Mexico', 'New York', 'North Carolina', 'North Dakota', 'Ohio',\n",
        "          'Oklahoma', 'Oregon', 'Pennsylvania', 'Rhode Island', 'South Carolina', 'South Dakota',\n",
        "          'Tennessee', 'Texas', 'Utah', 'Vermont', 'Virginia', 'Washington', 'West Virginia',\n",
        "          'Wisconsin', 'Wyoming']\n",
        "\n",
        "#\n",
        "df1 = df_selected[df_selected['stateProvince'].isin(states)]\n",
        "df2 = df_selected_1[df_selected_1['stateProvince'].isin(states)]\n",
        "\n",
        "\n",
        "#\n",
        "#df1.to_csv(\"new_selected_data.csv\", index=False)\n",
        "#df2.to_csv(\"new_selected_data_1.csv\", index=False)\n",
        "\n",
        "#\n",
        "df3 = pd.read_csv(\"new_selected_data.csv\")\n",
        "df4 = pd.read_csv(\"new_selected_data_1.csv\")\n",
        "print(len(df1))\n",
        "print(len(df2))\n",
        "print(df1.head())\n",
        "print(df2.head())\n",
        "\n"
      ],
      "metadata": {
        "colab": {
          "base_uri": "https://localhost:8080/"
        },
        "id": "N5I-n6sHxhYu",
        "outputId": "32a9a0d8-1a8f-4b16-ac3f-e4a3fb4ff97b"
      },
      "execution_count": null,
      "outputs": [
        {
          "output_type": "stream",
          "name": "stderr",
          "text": [
            "<ipython-input-33-0394f2c67e04>:8: SettingWithCopyWarning: \n",
            "A value is trying to be set on a copy of a slice from a DataFrame.\n",
            "Try using .loc[row_indexer,col_indexer] = value instead\n",
            "\n",
            "See the caveats in the documentation: https://pandas.pydata.org/pandas-docs/stable/user_guide/indexing.html#returning-a-view-versus-a-copy\n",
            "  df_selected['year'] = df_selected['year'].astype(str)\n",
            "<ipython-input-33-0394f2c67e04>:12: SettingWithCopyWarning: \n",
            "A value is trying to be set on a copy of a slice from a DataFrame.\n",
            "Try using .loc[row_indexer,col_indexer] = value instead\n",
            "\n",
            "See the caveats in the documentation: https://pandas.pydata.org/pandas-docs/stable/user_guide/indexing.html#returning-a-view-versus-a-copy\n",
            "  df_selected['id'] = range(1, len(df_selected) + 1)\n",
            "<ipython-input-33-0394f2c67e04>:13: SettingWithCopyWarning: \n",
            "A value is trying to be set on a copy of a slice from a DataFrame.\n",
            "Try using .loc[row_indexer,col_indexer] = value instead\n",
            "\n",
            "See the caveats in the documentation: https://pandas.pydata.org/pandas-docs/stable/user_guide/indexing.html#returning-a-view-versus-a-copy\n",
            "  df_selected_1['id'] = range(1, len(df_selected_1) + 1)\n"
          ]
        },
        {
          "output_type": "stream",
          "name": "stdout",
          "text": [
            "617820\n",
            "617820\n",
            "                    country stateProvince    year  \\\n",
            "0  United States of America  Pennsylvania  1907.0   \n",
            "1  United States of America  Pennsylvania  1905.0   \n",
            "2  United States of America         Texas  1852.0   \n",
            "3  United States of America         Texas  1852.0   \n",
            "4  United States of America         Texas  1852.0   \n",
            "\n",
            "                             locality            scientificName.x  \\\n",
            "0                     Nine-mile River     Crataegus torta Sargent   \n",
            "1                     Nine-mile River     Crataegus torta Sargent   \n",
            "2  N. Mex. [stony hills near El Paso]  Vesicaria purpurea A. Gray   \n",
            "3  N. Mex. [stony hills near El Paso]  Vesicaria purpurea A. Gray   \n",
            "4  N. Mex. [stony hills near El Paso]  Vesicaria purpurea A. Gray   \n",
            "\n",
            "       family.x    genus.x specificEpithet.x   identifiedBy.x  \\\n",
            "0      Rosaceae  Crataegus             torta   D. E. Boufford   \n",
            "1      Rosaceae  Crataegus             torta   D. E. Boufford   \n",
            "2  Brassicaceae  Vesicaria          purpurea  W. T. Kittredge   \n",
            "3  Brassicaceae  Vesicaria          purpurea  W. T. Kittredge   \n",
            "4  Brassicaceae  Vesicaria          purpurea  W. T. Kittredge   \n",
            "\n",
            "  scientificNameAuthorship.x  id  \n",
            "0                    Sargent   1  \n",
            "1                    Sargent   2  \n",
            "2                    A. Gray   3  \n",
            "3                    A. Gray   4  \n",
            "4                    A. Gray   5  \n",
            "            sex stateProvince reproductiveCondition  \\\n",
            "0  undetermined  Pennsylvania                 Fruit   \n",
            "1  undetermined  Pennsylvania                 Fruit   \n",
            "2  undetermined         Texas        FlowerAndFruit   \n",
            "3  undetermined         Texas        FlowerAndFruit   \n",
            "4  undetermined         Texas        FlowerAndFruit   \n",
            "\n",
            "                    collectionID occurrenceStatus    disposition  id  \n",
            "0  urn:lsid:biocol.org:col:15406          present  in collection   1  \n",
            "1  urn:lsid:biocol.org:col:15406          present  in collection   2  \n",
            "2  urn:lsid:biocol.org:col:15631          present  in collection   3  \n",
            "3  urn:lsid:biocol.org:col:15631          present  in collection   4  \n",
            "4  urn:lsid:biocol.org:col:15631          present  in collection   5  \n"
          ]
        }
      ]
    },
    {
      "cell_type": "code",
      "source": [
        "state_counts = df1.groupby('scientificNameAuthorship.x')['id'].count()\n",
        "print(state_counts.sort_values(ascending=False))"
      ],
      "metadata": {
        "colab": {
          "base_uri": "https://localhost:8080/"
        },
        "id": "W0yg115E2SlG",
        "outputId": "4b8a3fbb-ae56-4f4a-c284-1d1fdd6a645f"
      },
      "execution_count": 59,
      "outputs": [
        {
          "output_type": "stream",
          "name": "stdout",
          "text": [
            "scientificNameAuthorship.x\n",
            "Linnaeus                 98413\n",
            "Michaux                  13952\n",
            "A. Gray                  12256\n",
            "Nuttall                  10949\n",
            "Willdenow                 6471\n",
            "                         ...  \n",
            "(Sprengel) M. Broun          1\n",
            "Mackenzie ex Bright          1\n",
            "(Decaisne) Woodson           1\n",
            "(Hue) Esslinger              1\n",
            "(Ramatuelle) Kitamura        1\n",
            "Name: id, Length: 9132, dtype: int64\n"
          ]
        }
      ]
    },
    {
      "cell_type": "code",
      "source": [
        "#selected_columns = ['\"country\"','\"stateProvince\"', '\"year\"','\"locality\"', '\"collectionID\"','\"scientificName.x\"','\"family.x\"', '\"genus.x\"', '\"specificEpithet.x\"',\n",
        "                     #'\"identifiedBy.x\"',  '\"scientificNameAuthorship.x\"']\n",
        "#selected_columns_1 = ['\"sex\"', '\"reproductiveCondition\"', '\"occurrenceStatus\"', '\"disposition\"'] # 替换成你要的列名\n",
        "selected_columns = ['country']\n",
        "df_selected = df[selected_columns]\n",
        "print(df_selected.head())\n",
        "#df_selected_1 = df[selected_columns_1]"
      ],
      "metadata": {
        "colab": {
          "base_uri": "https://localhost:8080/"
        },
        "id": "qJdcJZGv0Qmi",
        "outputId": "70248a89-2492-4c97-f8f8-ce2b78fd49f1"
      },
      "execution_count": null,
      "outputs": [
        {
          "output_type": "stream",
          "name": "stdout",
          "text": [
            "                    country\n",
            "0  United States of America\n",
            "1  United States of America\n",
            "2  United States of America\n",
            "3  United States of America\n",
            "4  United States of America\n"
          ]
        }
      ]
    }
  ]
}